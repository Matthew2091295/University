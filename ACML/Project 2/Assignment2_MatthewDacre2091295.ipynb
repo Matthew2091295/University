{
 "cells": [
  {
   "cell_type": "markdown",
   "metadata": {},
   "source": [
    "Matthew Dacre 2091295"
   ]
  },
  {
   "cell_type": "code",
   "execution_count": 1,
   "metadata": {},
   "outputs": [],
   "source": [
    "import numpy as np\n",
    "import pandas as pd\n",
    "from sklearn.model_selection import train_test_split\n",
    "import seaborn as sns\n",
    "import matplotlib.pyplot as plt"
   ]
  },
  {
   "cell_type": "markdown",
   "metadata": {},
   "source": [
    "## Activation Functions\n",
    "\n",
    "The activation functions that I will be using are tanh, sigmoid and reLU"
   ]
  },
  {
   "cell_type": "code",
   "execution_count": 2,
   "metadata": {},
   "outputs": [],
   "source": [
    "# Activation Functions\n",
    "\n",
    "def tanh(x):\n",
    "    return np.tanh(x)\n",
    "\n",
    "def tanh_prime(x):\n",
    "    return 1-np.tanh(x)**2\n",
    "\n",
    "def sigmoid(x):\n",
    "    return 1/(1+np.exp(-1*x))\n",
    "\n",
    "def sigmoid_prime(x):\n",
    "    return 1 - sigmoid(x)\n",
    "\n",
    "def reLU(x):\n",
    "    return np.maximum(0, x)\n",
    "\n",
    "def reLU_prime(x):\n",
    "    x[x<=0] = 0\n",
    "    x[x>0] = 1\n",
    "    return x\n"
   ]
  },
  {
   "cell_type": "markdown",
   "metadata": {},
   "source": [
    "## Initialising weights\n",
    "\n",
    "The following code initialises the weights between 0 and 1 for a given input, oputput and hidden dimensions"
   ]
  },
  {
   "cell_type": "code",
   "execution_count": 3,
   "metadata": {},
   "outputs": [],
   "source": [
    "def init_weights(input, output):\n",
    "    '''\n",
    "    Initialises weights between 0 and 1 given input and output dimensions\n",
    "    '''\n",
    "    # Theta: [output x input + 1]\n",
    "    return np.random.random((output, input+1))\n",
    "\n",
    "def init_layers(input_dim, output_dim, hidden_dim = 0, num_hidden = 0):\n",
    "    if num_hidden == 0 or hidden_dim == 0:\n",
    "        # No hidden layers, thetas only need to be from input nodes to output nodes\n",
    "        return [init_weights(input_dim, output_dim)]\n",
    "\n",
    "    # Have at least one hidden layer\n",
    "    outputThetas = [init_weights(input_dim, hidden_dim)]\n",
    "\n",
    "    for _ in range(num_hidden - 1):\n",
    "        # Get weights between hidden layers\n",
    "        outputThetas.append(init_weights(hidden_dim, hidden_dim))\n",
    "    # Get weights from last hidden layer to output layer\n",
    "    outputThetas.append(init_weights(hidden_dim, output_dim))\n",
    "\n",
    "    return outputThetas"
   ]
  },
  {
   "cell_type": "markdown",
   "metadata": {},
   "source": [
    "## Forward propogation\n",
    "\n",
    "The functions below perform forward propogation on an array of input vectors x, and return boththe activated and non-activated results"
   ]
  },
  {
   "cell_type": "code",
   "execution_count": 4,
   "metadata": {},
   "outputs": [],
   "source": [
    "# Forward Propogation\n",
    "def forward_propogation_epoch(input, theta, activation=sigmoid):\n",
    "    '''\n",
    "    Performs matrix multiplication. Returns Activated and non activated results.\n",
    "    '''\n",
    "    input = np.insert(input, 0, 1)\n",
    "    return (activation(np.dot(theta, input.T)), np.dot(theta, input.T))\n",
    "\n",
    "def forward_propogation(x, thetas, activation):\n",
    "    '''\n",
    "    returns the activation values in each layer for a training instance x\n",
    "    '''\n",
    "    curr = [x]\n",
    "    z = [x]\n",
    "    for i, t in enumerate(thetas):\n",
    "        r = forward_propogation_epoch(curr[i], t, activation)\n",
    "        curr.append(r[0])\n",
    "        z.append(r[1])\n",
    "\n",
    "    return (curr, z)\n",
    "    "
   ]
  },
  {
   "cell_type": "code",
   "execution_count": 5,
   "metadata": {},
   "outputs": [],
   "source": [
    "# Reading in data\n",
    "df = pd.read_csv(\"Fish.csv\")\n",
    "\n",
    "y = df['Weight'].to_numpy()\n",
    "x = df[['Length1','Length2','Length3','Height','Width']].to_numpy()\n",
    "\n",
    "# Splitting datasets\n",
    "x_train, x_test, y_train, y_test = train_test_split(x, y)\n"
   ]
  },
  {
   "cell_type": "code",
   "execution_count": 6,
   "metadata": {},
   "outputs": [],
   "source": [
    "def oneHidden(x_train, x_test, y_train, y_test, alpha, lmbda, activation, activation_prime, k,seed=42):\n",
    "    input_layer, hidden_layer, num_hidden, output_layer = 5, 500, 1, 1\n",
    "\n",
    "    np.random.seed(seed)\n",
    "    for _ in range(k):\n",
    "        avDistance = np.zeros((100, 1))\n",
    "        thetas = init_layers(input_layer, output_layer, hidden_layer, num_hidden)\n",
    "\n",
    "        lmbdas = [np.zeros(thetas[0].shape), np.zeros(thetas[1].shape)]\n",
    "\n",
    "        lmbdas[0][:, 1:] = lmbda\n",
    "        lmbdas[1][:, 1:] = lmbda\n",
    "\n",
    "        for epoch in range(100):\n",
    "            m = 0\n",
    "            for i in range(len(x_test)):\n",
    "                a, z = forward_propogation(x_test[i], thetas, activation)\n",
    "                m += abs((a[-1] - y_test[i]))\n",
    "            avDistance[epoch] += m/len(y_test)\n",
    "\n",
    "\n",
    "            Del1 = 0\n",
    "            Del2 = 0\n",
    "\n",
    "            for i, x in enumerate(x_train):\n",
    "                a, z = forward_propogation(x, thetas, activation)\n",
    "\n",
    "                # Performing backpropogation by hand\n",
    "                # z holds unactivated values\n",
    "\n",
    "                del3 = a[-1] - y_train[i]\n",
    "                del2 = np.multiply(thetas[1].T.dot(del3), activation_prime(np.insert(z[1], 0, 1)))\n",
    "\n",
    "                Del1 = Del1 + del2.dot(np.insert(a[1], 0, 1).T)\n",
    "                Del2 = Del2 + del3.dot(a[2].T)\n",
    "\n",
    "            D1 = Del1*(1/len(y_train)) + lmbdas[0]*thetas[0]\n",
    "            D2 = Del2*(1/len(y_train)) + lmbdas[1]*thetas[1]\n",
    "\n",
    "            #print(thetas)\n",
    "            thetas[0] = thetas[0] - alpha*D1\n",
    "            thetas[1] = thetas[1] - alpha*D2\n",
    "\n",
    "           \n",
    "\n",
    "    return (avDistance/k)"
   ]
  },
  {
   "cell_type": "code",
   "execution_count": 7,
   "metadata": {},
   "outputs": [
    {
     "name": "stdout",
     "output_type": "stream",
     "text": [
      "Average time in seconds taken to train the model with a reLU activation function:  0.9828442799975164 \n",
      "Average distance from the prediction to the ground truth value of the model in the test set:  [33.07643609]\n",
      "Average time in seconds taken to train the model with a tanh activation function:  0.9729353300004732 \n",
      "Average distance from the prediction to the ground truth value of the model in the test set:  [43.9815]\n",
      "Average time in seconds taken to train the model with a sigmoid activation function:  1.1779324100003579 \n",
      "Average distance from the prediction to the ground truth value of the model in the test set:  [43.9815]\n"
     ]
    },
    {
     "data": {
      "image/png": "[encoded data removed]",
      "text/plain": [
       "<Figure size 432x288 with 3 Axes>"
      ]
     },
     "metadata": {
      "needs_background": "light"
     },
     "output_type": "display_data"
    }
   ],
   "source": [
    "import time\n",
    "\n",
    "start = time.perf_counter()\n",
    "perf1 = oneHidden(x_train, x_test, y_train, y_test, 1e-9, 1e-3, reLU, reLU_prime, 10, seed=1)\n",
    "end = time.perf_counter()\n",
    "\n",
    "print(\"Average time in seconds taken to train the model with a reLU activation function: \", (end - start)/10, \"\\nAverage distance from the prediction to the ground truth value of the model in the test set: \" ,perf1[-1])\n",
    "\n",
    "start = time.perf_counter()\n",
    "perf2 = oneHidden(x_train, x_test, y_train, y_test, 1e-9, 1e-3, tanh, tanh_prime, 10, seed=2)\n",
    "end = time.perf_counter()\n",
    "\n",
    "print(\"Average time in seconds taken to train the model with a tanh activation function: \", (end - start)/10, \"\\nAverage distance from the prediction to the ground truth value of the model in the test set: \" ,perf2[-1])\n",
    "\n",
    "start = time.perf_counter()\n",
    "perf3 = oneHidden(x_train, x_test, y_train, y_test, 1e-9, 1e-3, sigmoid, sigmoid_prime, 10, seed=3)\n",
    "end = time.perf_counter()\n",
    "\n",
    "print(\"Average time in seconds taken to train the model with a sigmoid activation function: \", (end - start)/10, \"\\nAverage distance from the prediction to the ground truth value of the model in the test set: \" ,perf3[-1])\n",
    "\n",
    "fig, axs = plt.subplots(ncols=3)\n",
    "\n",
    "axs[0].plot(perf1)\n",
    "axs[0].set_title(\"reLU\")\n",
    "\n",
    "axs[1].plot(perf2)\n",
    "axs[1].set_title(\"tanh\")\n",
    "\n",
    "axs[2].plot(perf3)\n",
    "axs[2].set_title(\"sigmoid\")\n",
    "\n",
    "fig.tight_layout()\n",
    "\n",
    "plt.show()\n"
   ]
  },
  {
   "cell_type": "markdown",
   "metadata": {},
   "source": [
    "## Effect of different activation functions\n",
    "\n",
    "As can be seen above, the best performing activation function for this data set, with $\\alpha=1e-9$, $\\lambda=1e-3$, and the network containikng one layer with 500 nodes was the reLU activation function. It seems to have taken slower to converge than the other activation functions, shown by the graph of average etsting error, but with a better final accuracy. This may be due to the fact that there can be a larger variation in values from data activated with a reLU activation function than data activated with a sigmoid activation function."
   ]
  },
  {
   "cell_type": "code",
   "execution_count": 8,
   "metadata": {},
   "outputs": [],
   "source": [
    "def twoHidden(x_train, x_test, y_train, y_test, alpha, lmbda, activation, activation_prime, k,seed=42):\n",
    "    input_layer, hidden_layer, num_hidden, output_layer = 5, 100, 2, 1\n",
    "    np.random.seed(seed)\n",
    "\n",
    "    for _ in range(k):\n",
    "        avDistance = np.zeros((100, 1))\n",
    "        thetas = init_layers(input_layer, output_layer, hidden_layer, num_hidden)\n",
    "\n",
    "        lmbdas = [np.zeros(thetas[0].shape), np.zeros(thetas[1].shape), np.zeros(thetas[2].shape)]\n",
    "        lmbdas[0][:, 1:] = lmbda\n",
    "        lmbdas[1][:, 1:] = lmbda\n",
    "        lmbdas[2][:, 1:] = lmbda\n",
    "\n",
    "        for epoch in range(100):\n",
    "            m = 0\n",
    "            for i in range(len(x_test)):\n",
    "                a, z = forward_propogation(x_test[i], thetas, activation)\n",
    "                m += abs((a[-1] - y_test[i]))\n",
    "            avDistance[epoch] += m/len(y_test)\n",
    "            \n",
    "            Del1 = 0\n",
    "            Del2 = 0\n",
    "            Del3 = 0\n",
    "            for i, x in enumerate(x_train):\n",
    "                a, z = forward_propogation(x, thetas, activation)\n",
    "\n",
    "                # Performing backpropogation by hand\n",
    "                # z holds unactivated values\n",
    "\n",
    "                del4 = a[-1] - y_train[i]\n",
    "                del3 = np.multiply(thetas[2].T.dot(del4), activation_prime(np.insert(z[2], 0, 1)))\n",
    "                del2 = np.multiply(thetas[1].dot(del3), activation_prime(z[1]))\n",
    "\n",
    "                Del3 += del4.dot(a[3].T)\n",
    "                Del2 += del3.dot(np.insert(a[2], 0, 1).T)\n",
    "                Del1 += del2.dot(a[1].T)\n",
    "\n",
    "            D1 = 1/len(x_train) * Del1 + lmbdas[0]*thetas[0]\n",
    "            D2 = 1/len(x_train) * Del2 + lmbdas[1]*thetas[1]\n",
    "            D3 = 1/len(x_train) * Del3 + lmbdas[2]*thetas[2]\n",
    "\n",
    "            thetas[0] -= alpha*D1\n",
    "            thetas[1] -= alpha*D2\n",
    "            thetas[2] -= alpha*D3\n",
    "\n",
    "    return(avDistance/k)"
   ]
  },
  {
   "cell_type": "code",
   "execution_count": 9,
   "metadata": {},
   "outputs": [
    {
     "name": "stdout",
     "output_type": "stream",
     "text": [
      "The average time taken to train the model: 5.4127182099997295 \n",
      "The final average testing error: [44.0815]\n"
     ]
    },
    {
     "data": {
      "image/png": "[encoded data removed]",
      "text/plain": [
       "<Figure size 432x288 with 1 Axes>"
      ]
     },
     "metadata": {
      "needs_background": "light"
     },
     "output_type": "display_data"
    }
   ],
   "source": [
    "import time\n",
    "\n",
    "start = time.perf_counter()\n",
    "perf = twoHidden(x_train, x_test, y_train, y_test, 1e-9, 1e-3, reLU, reLU_prime, 10)\n",
    "end = time.perf_counter()\n",
    "\n",
    "print(\"The average time taken to train the model:\", (end-start)/10, \"\\nThe final average testing error:\", perf[-1])\n",
    "plt.title(\"Two hidden layers\")\n",
    "plt.plot(perf)\n",
    "\n",
    "plt.show()"
   ]
  },
  {
   "cell_type": "markdown",
   "metadata": {},
   "source": [
    "## Multiple Hidden Layers\n",
    "\n",
    "As seen above, the network with multiple hidden layers (2 layers of 100 neurons), had a similar final performance to the single hidden layer networks, but appeared to have a significantly quicker convergence. The increased learning time may be due to unnecessary calculations being performed after convergence is achieved."
   ]
  }
 ],
 "metadata": {
  "interpreter": {
   "hash": "26de051ba29f2982a8de78e945f0abaf191376122a1563185a90213a26c5da77"
  },
  "kernelspec": {
   "display_name": "Python 3.10.2 64-bit",
   "language": "python",
   "name": "python3"
  },
  "language_info": {
   "codemirror_mode": {
    "name": "ipython",
    "version": 3
   },
   "file_extension": ".py",
   "mimetype": "text/x-python",
   "name": "python",
   "nbconvert_exporter": "python",
   "pygments_lexer": "ipython3",
   "version": "3.10.2"
  },
  "orig_nbformat": 4
 },
 "nbformat": 4,
 "nbformat_minor": 2
}
