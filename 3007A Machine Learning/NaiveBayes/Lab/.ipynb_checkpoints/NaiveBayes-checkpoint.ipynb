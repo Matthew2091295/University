{
 "cells": [
  {
   "cell_type": "code",
   "execution_count": 1,
   "metadata": {},
   "outputs": [],
   "source": [
    "#Imports\n",
    "import numpy as np"
   ]
  },
  {
   "cell_type": "code",
   "execution_count": 45,
   "metadata": {},
   "outputs": [],
   "source": [
    "#Question 1\n",
    "#Reads in the file and splits into an nd array\n",
    "#Index 0 is 1, 1 is -1\n",
    "fileTxt = open(\"simple-food-reviews.txt\", \"r\")\n",
    "dictList = [dict() for x in range(2)]\n",
    "x = np.arange(18)\n",
    "vals = np.random.choice(x, 12, replace = False)\n",
    "countPos = 0\n",
    "countNeg = 0\n",
    "testingData = np.array([])\n",
    "for count, line in enumerate(fileTxt):\n",
    "    if not(count in vals):\n",
    "        line = line.rstrip(\"\\n\")\n",
    "        testingData = np.append(testingData, line)\n",
    "        continue\n",
    "    line = line.rstrip(\"\\n\")\n",
    "    line = line.rstrip('')\n",
    "    lineSplit = line.split(\" \")\n",
    "    for i in lineSplit:\n",
    "        if i == '-1' or i == '1' or len(i) < 3:\n",
    "            continue\n",
    "        else:\n",
    "            temp = {}\n",
    "            if lineSplit[0] == '1':\n",
    "                countPos = countPos + 1\n",
    "                if i in dictList[0]:\n",
    "                    dictList[0][i] = dictList[0][i] + 1\n",
    "                else:\n",
    "                    dictList[0][i] = 1\n",
    "            else:\n",
    "                countNeg = countNeg + 1\n",
    "                if i in dictList[1]:\n",
    "                    dictList[1][i] = dictList[1][i] + 1\n",
    "                else:\n",
    "                    dictList[1][i] = 1\n",
    "\n",
    "                    \n",
    "#dictList contains the count of all of the words from the random 12 reviews, \n",
    "#with the first dict being the positive reviews, and the second one being the negative reviews\n",
    "#countPos and countNeg have the count of the positive and negative reviews from the random sample\n",
    "fileTxt.close()"
   ]
  },
  {
   "cell_type": "code",
   "execution_count": 46,
   "metadata": {},
   "outputs": [
    {
     "name": "stdout",
     "output_type": "stream",
     "text": [
      "1 this is a great restaurant -1 0.9798112261580674\n",
      "1 what a lovely restaurant -1 0.9852986666956332\n",
      "-1 the food tasted awful -1 0.8924657314172532\n",
      "-1 this is a bad restaurant   1 0.6133870780732203\n",
      "-1 avoid this restaurant -1 0.8739476387835183\n",
      "-1 avoid the food 1 0.6437944757690598\n"
     ]
    }
   ],
   "source": [
    "#Using the vals array, test the predictions and create a confusion matrix using smoothing\n",
    "for count, line in enumerate(testingData):\n",
    "    lineSplit = np.array(line.split(\" \"))\n",
    "    line = line.rstrip(\"\\n\")\n",
    "    lineSplit = np.delete(lineSplit, 0)\n",
    "    #We now have a trimmed and split review, next is to try predict whether it was pos or neg\n",
    "    #Positive case\n",
    "    temp = dictList[0]\n",
    "    #We need P(Review|Positive)\n",
    "    probPos = 1\n",
    "    for key in temp:\n",
    "        if key in lineSplit:\n",
    "            probPos = (probPos)*((temp[key]+1)/(countPos+2))\n",
    "        else:\n",
    "            probPos = (probPos)*(1-((temp[key]+1)/(countPos+2)))\n",
    "    #Negative case\n",
    "    temp = dictList[1]\n",
    "    probNeg = 1\n",
    "    for key in temp:\n",
    "        if key in lineSplit:\n",
    "            probNeg = (probNeg)*((temp[key]+1)/(countNeg+2))\n",
    "        else:\n",
    "            probNeg = (probNeg)*(1-((temp[key]+1)/(countNeg+2)))\n",
    "    #Calculate final probability its positive\n",
    "    finalProbPos = (probPos*(countPos/12))/((probPos*(countPos/12)) + (probNeg*(countNeg/12)))\n",
    "    if finalProbPos > 0.5:\n",
    "        prediction = 1\n",
    "        predictionPos = finalProbPos\n",
    "    else:\n",
    "        prediction = -1\n",
    "        predictionPos = 1- finalProbPos\n",
    "    print(line + \" \" + str(prediction) + \" \" + str(predictionPos))\n"
   ]
  },
  {
   "cell_type": "code",
   "execution_count": 35,
   "metadata": {},
   "outputs": [
    {
     "name": "stdout",
     "output_type": "stream",
     "text": [
      "1 i really enjoyed my food -1 0.9989172880511551\n",
      "1 the service was great 1 0.9351211455261612\n",
      "1 the food the service and the restaurant was great 1 0.9714291470923577\n",
      "-1 this is a bad restaurant   1 0.9969455779348054\n",
      "-1 the service and the food was terrible 1 0.9991779866204407\n",
      "-1 avoid the food 1 0.9351211455261612\n"
     ]
    }
   ],
   "source": [
    "#1c, same as previous cell but without laplace smoothing\n",
    "#Using the vals array, test the predictions and create a confusion matrix using smoothing\n",
    "for count, line in enumerate(testingData):\n",
    "    lineSplit = np.array(line.split(\" \"))\n",
    "    line = line.rstrip(\"\\n\")\n",
    "    lineSplit = np.delete(lineSplit, 0)\n",
    "    #We now have a trimmed and split review, next is to try predict whether it was pos or neg\n",
    "    #Positive case\n",
    "    temp = dictList[0]\n",
    "    #We need P(Review|Positive)\n",
    "    probPos = 1\n",
    "    for key in temp:\n",
    "        if key in lineSplit:\n",
    "            probPos = (probPos)*((temp[key])/(countPos))\n",
    "        else:\n",
    "            probPos = (probPos)*(1-((temp[key])/(countPos)))\n",
    "    #Negative case\n",
    "    temp = dictList[1]\n",
    "    probNeg = 1\n",
    "    for key in temp:\n",
    "        if key in lineSplit:\n",
    "            probNeg = (probNeg)*((temp[key])/(countNeg))\n",
    "        else:\n",
    "            probNeg = (probNeg)*(1-((temp[key])/(countNeg)))\n",
    "    #Calculate final probability its positive\n",
    "    finalProbPos = (probPos*(countPos/12))/((probPos*(countPos/12)) + (probNeg*(countNeg/12)))\n",
    "    if finalProbPos > 0.5:\n",
    "        prediction = 1\n",
    "        predictionPos = finalProbPos\n",
    "    else:\n",
    "        prediction = -1\n",
    "        predictionPos = 1- finalProbPos\n",
    "    print(line + \" \" + str(prediction) + \" \" + str(predictionPos))"
   ]
  },
  {
   "cell_type": "code",
   "execution_count": 24,
   "metadata": {},
   "outputs": [
    {
     "name": "stdout",
     "output_type": "stream",
     "text": [
      "[{'the': 7, 'food': 4, 'is': 2, 'lovely': 3, 'this': 1, 'a': 3, 'great': 4, 'restaurant': 4, 'i': 2, 'really': 1, 'enjoyed': 2, 'my': 2, 'experience': 1, 'at': 1, 'we': 1, 'had': 1, 'meal': 1, 'tasted': 1, 'service': 2, 'was': 2, 'what': 1, 'and': 1}, {'the': 7, 'service': 2, 'is': 2, 'terrible': 4, 'food': 4, 'tasted': 1, 'awful': 1, 'this': 2, 'a': 2, 'bad': 2, 'restaurant': 2, '': 2, 'was': 3, 'really': 1, 'and': 1, 'we': 1, 'had': 1, 'experience': 1, 'avoid': 2, 'meal': 1}]\n"
     ]
    }
   ],
   "source": [
    "#1b, tringing on the full review set\n",
    "#Index 0 is 1, 1 is -1\n",
    "fileTxt = open(\"simple-food-reviews.txt\", \"r\")\n",
    "dictList = [dict() for x in range(2)]\n",
    "x = np.arange(18)\n",
    "countPos = 6\n",
    "countNeg = 6\n",
    "testingData = np.array([])\n",
    "for count, line in enumerate(fileTxt):\n",
    "    line = line.rstrip(\"\\n\")\n",
    "    line = line.rstrip('')\n",
    "    lineSplit = line.split(\" \")\n",
    "    for i in lineSplit:\n",
    "        if i == '-1' or i == '1':\n",
    "            continue\n",
    "        else:\n",
    "            temp = {}\n",
    "            if lineSplit[0] == '1':\n",
    "                if i in dictList[0]:\n",
    "                    dictList[0][i] = dictList[0][i] + 1\n",
    "                else:\n",
    "                    dictList[0][i] = 1\n",
    "            else:\n",
    "                if i in dictList[1]:\n",
    "                    dictList[1][i] = dictList[1][i] + 1\n",
    "                else:\n",
    "                    dictList[1][i] = 1\n",
    "\n",
    "print(dictList)                    \n",
    "#dictList contains the count of all of the words from the random 12 reviews, \n",
    "#with the first dict being the positive reviews, and the second one being the negative reviews\n",
    "#countPos and countNeg have the count of the positive and negative reviews from the random sample\n",
    "    \n",
    "\n",
    "fileTxt.close()"
   ]
  },
  {
   "cell_type": "code",
   "execution_count": 31,
   "metadata": {},
   "outputs": [
    {
     "name": "stdout",
     "output_type": "stream",
     "text": [
      "1 the food exceeded our expectations -1 0.7484599589322383\n",
      "-1 the food and service was lackluster -1 0.8264134901516226\n"
     ]
    }
   ],
   "source": [
    "#pulling in and testng on 2 of my own reviews\n",
    "\n",
    "fileTxt = open(\"custom-food-reviews.txt\", \"r\")\n",
    "\n",
    "for count, line in enumerate(fileTxt):\n",
    "    line = line.rstrip(\"\\n\")\n",
    "    lineSplit = line.split(\" \")\n",
    "    lineSplit = np.delete(lineSplit, 0)\n",
    "    #We now have a trimmed and split review, next is to try predict whether it was pos or neg\n",
    "    #Positive case\n",
    "    \n",
    "    temp = dictList[0]\n",
    "    probPos = 1\n",
    "    for key in temp:\n",
    "        if key in lineSplit:\n",
    "            probPos = probPos*(temp[key] + 1)/(9)\n",
    "        else:\n",
    "            probPos = probPos*(1-((temp[key]+1)/9))\n",
    "    #Negative Case\n",
    "    temp = dictList[1]\n",
    "    probNeg = 1\n",
    "    for key in temp:\n",
    "        if key in lineSplit:\n",
    "            probNeg = probNeg*(temp[key] + 1)/(9)\n",
    "        else:\n",
    "            probNeg = probNeg*(1-((temp[key]+1)/9))\n",
    "    #Calc final probability that is positive\n",
    "    finalProbPos = (probPos*(0.5))/(probPos*0.5 + probNeg*0.5)\n",
    "    \n",
    "    if finalProbPos > 0.5:\n",
    "        prediction = 1\n",
    "        predictionPob = finalProbPos\n",
    "    else:\n",
    "        prediction = -1\n",
    "        predictionPob = 1 - finalProbPos\n",
    "    print(line + \" \" + str(prediction) + \" \" + str(predictionPob))"
   ]
  },
  {
   "cell_type": "code",
   "execution_count": 3,
   "metadata": {},
   "outputs": [
    {
     "ename": "SyntaxError",
     "evalue": "invalid syntax (<ipython-input-3-7243d406c37c>, line 7)",
     "output_type": "error",
     "traceback": [
      "\u001b[1;36m  File \u001b[1;32m\"<ipython-input-3-7243d406c37c>\"\u001b[1;36m, line \u001b[1;32m7\u001b[0m\n\u001b[1;33m    arr = np.zeros((1797, 65))\u001b[0m\n\u001b[1;37m      ^\u001b[0m\n\u001b[1;31mSyntaxError\u001b[0m\u001b[1;31m:\u001b[0m invalid syntax\n"
     ]
    }
   ],
   "source": [
    "#Question 2\n",
    "#Reading in csv\n",
    "\n",
    "fileCsv = open(\"smalldigits.csv\", \"r\")\n",
    "\n",
    "vals = np.random.choice(np.arange(1797, 359, replace=False)\n",
    "arr = np.zeros((1797, 65))\n",
    "for count, line in enumerate(fileCsv):\n",
    "    line = line.rstrip(\"\\n\")\n",
    "    lineSplit = line.split(\",\")\n",
    "    for index, val in enumerate(lineSplit):\n",
    "        arr[count, index] = val\n",
    "    \n",
    "fileCsv.close()"
   ]
  },
  {
   "cell_type": "code",
   "execution_count": 62,
   "metadata": {},
   "outputs": [
    {
     "name": "stdout",
     "output_type": "stream",
     "text": [
      "['variance', 'skewness', 'curtosis', 'entropy', 'class']\n"
     ]
    },
    {
     "ename": "ValueError",
     "evalue": "zero-dimensional arrays cannot be concatenated",
     "output_type": "error",
     "traceback": [
      "\u001b[1;31m---------------------------------------------------------------------------\u001b[0m",
      "\u001b[1;31mValueError\u001b[0m                                Traceback (most recent call last)",
      "\u001b[1;32m<ipython-input-62-bf3bba26fab8>\u001b[0m in \u001b[0;36m<module>\u001b[1;34m\u001b[0m\n\u001b[0;32m      8\u001b[0m \u001b[0marr\u001b[0m \u001b[1;33m=\u001b[0m \u001b[0mnp\u001b[0m\u001b[1;33m.\u001b[0m\u001b[0marray\u001b[0m\u001b[1;33m(\u001b[0m\u001b[0mclasses\u001b[0m\u001b[1;33m)\u001b[0m\u001b[1;33m\u001b[0m\u001b[1;33m\u001b[0m\u001b[0m\n\u001b[0;32m      9\u001b[0m \u001b[0marr\u001b[0m \u001b[1;33m=\u001b[0m \u001b[0marr\u001b[0m\u001b[1;33m.\u001b[0m\u001b[0mreshape\u001b[0m\u001b[1;33m(\u001b[0m\u001b[1;33m(\u001b[0m\u001b[1;36m5\u001b[0m\u001b[1;33m,\u001b[0m\u001b[1;33m)\u001b[0m\u001b[1;33m)\u001b[0m\u001b[1;33m\u001b[0m\u001b[1;33m\u001b[0m\u001b[0m\n\u001b[1;32m---> 10\u001b[1;33m \u001b[0marr\u001b[0m\u001b[1;33m[\u001b[0m\u001b[1;36m0\u001b[0m\u001b[1;33m]\u001b[0m \u001b[1;33m=\u001b[0m \u001b[0mnp\u001b[0m\u001b[1;33m.\u001b[0m\u001b[0mappend\u001b[0m\u001b[1;33m(\u001b[0m\u001b[0marr\u001b[0m\u001b[1;33m[\u001b[0m\u001b[1;36m0\u001b[0m\u001b[1;33m]\u001b[0m\u001b[1;33m,\u001b[0m \u001b[1;33m[\u001b[0m\u001b[1;36m1\u001b[0m\u001b[1;33m,\u001b[0m \u001b[1;36m2\u001b[0m\u001b[1;33m,\u001b[0m \u001b[1;36m3\u001b[0m\u001b[1;33m]\u001b[0m\u001b[1;33m,\u001b[0m \u001b[0maxis\u001b[0m\u001b[1;33m=\u001b[0m\u001b[1;36m2\u001b[0m\u001b[1;33m)\u001b[0m\u001b[1;33m\u001b[0m\u001b[1;33m\u001b[0m\u001b[0m\n\u001b[0m\u001b[0;32m     11\u001b[0m \u001b[0mprint\u001b[0m\u001b[1;33m(\u001b[0m\u001b[0marr\u001b[0m\u001b[1;33m.\u001b[0m\u001b[0mshape\u001b[0m\u001b[1;33m)\u001b[0m\u001b[1;33m\u001b[0m\u001b[1;33m\u001b[0m\u001b[0m\n",
      "\u001b[1;32m<__array_function__ internals>\u001b[0m in \u001b[0;36mappend\u001b[1;34m(*args, **kwargs)\u001b[0m\n",
      "\u001b[1;32mc:\\users\\matthew dacre\\appdata\\local\\programs\\python\\python37-32\\lib\\site-packages\\numpy\\lib\\function_base.py\u001b[0m in \u001b[0;36mappend\u001b[1;34m(arr, values, axis)\u001b[0m\n\u001b[0;32m   4691\u001b[0m         \u001b[0mvalues\u001b[0m \u001b[1;33m=\u001b[0m \u001b[0mravel\u001b[0m\u001b[1;33m(\u001b[0m\u001b[0mvalues\u001b[0m\u001b[1;33m)\u001b[0m\u001b[1;33m\u001b[0m\u001b[1;33m\u001b[0m\u001b[0m\n\u001b[0;32m   4692\u001b[0m         \u001b[0maxis\u001b[0m \u001b[1;33m=\u001b[0m \u001b[0marr\u001b[0m\u001b[1;33m.\u001b[0m\u001b[0mndim\u001b[0m\u001b[1;33m-\u001b[0m\u001b[1;36m1\u001b[0m\u001b[1;33m\u001b[0m\u001b[1;33m\u001b[0m\u001b[0m\n\u001b[1;32m-> 4693\u001b[1;33m     \u001b[1;32mreturn\u001b[0m \u001b[0mconcatenate\u001b[0m\u001b[1;33m(\u001b[0m\u001b[1;33m(\u001b[0m\u001b[0marr\u001b[0m\u001b[1;33m,\u001b[0m \u001b[0mvalues\u001b[0m\u001b[1;33m)\u001b[0m\u001b[1;33m,\u001b[0m \u001b[0maxis\u001b[0m\u001b[1;33m=\u001b[0m\u001b[0maxis\u001b[0m\u001b[1;33m)\u001b[0m\u001b[1;33m\u001b[0m\u001b[1;33m\u001b[0m\u001b[0m\n\u001b[0m\u001b[0;32m   4694\u001b[0m \u001b[1;33m\u001b[0m\u001b[0m\n\u001b[0;32m   4695\u001b[0m \u001b[1;33m\u001b[0m\u001b[0m\n",
      "\u001b[1;32m<__array_function__ internals>\u001b[0m in \u001b[0;36mconcatenate\u001b[1;34m(*args, **kwargs)\u001b[0m\n",
      "\u001b[1;31mValueError\u001b[0m: zero-dimensional arrays cannot be concatenated"
     ]
    }
   ],
   "source": [
    "#Question 3\n",
    "\n",
    "fileCsv = open(\"banknote_authentication.csv\", \"r\")\n",
    "classes = fileCsv.readline()\n",
    "classes = classes.rstrip(\"\\n\")\n",
    "classes = classes.split(\";\")\n",
    "print(classes)\n",
    "arr = np.array(classes)\n",
    "arr = arr.reshape((5,))\n",
    "arr[0] = np.append(arr[0], [1, 2, 3], axis=2)\n",
    "print(arr.shape)"
   ]
  },
  {
   "cell_type": "code",
   "execution_count": 74,
   "metadata": {},
   "outputs": [
    {
     "name": "stdout",
     "output_type": "stream",
     "text": [
      "[ 0  1  2  3  4  5  6  7  8  9 10 11 12 13 14 15 16 17 18 19 20 21 22 23\n",
      " 24 25 26 27 28 29 30 31 32 33 34 35 36 37 38 39 40 41 42 43 44 45 46 47\n",
      " 48 49 50 51 52 53 54 55 56 57 58 59 60 61 62 63 64]\n",
      "[ 0.  0.  0.  0.  0.  0.  0.  0.  0.  0.  0.  0.  0.  0.  0.  0.  0.  0.\n",
      "  0.  0.  0.  0.  0.  0.  0.  0.  0.  0.  0.  0.  0.  0.  0.  0.  0.  0.\n",
      "  0.  0.  0.  0.  0.  0.  0.  0.  0.  0.  0.  0.  0.  0.  0.  0.  0.  0.\n",
      "  0.  0.  0.  0.  0.  0.  0.  0.  0.  0.  0.  0.  1.  2.  3.  4.  5.  6.\n",
      "  7.  8.  9. 10. 11. 12. 13. 14. 15. 16. 17. 18. 19. 20. 21. 22. 23. 24.\n",
      " 25. 26. 27. 28. 29. 30. 31. 32. 33. 34. 35. 36. 37. 38. 39. 40. 41. 42.\n",
      " 43. 44. 45. 46. 47. 48. 49. 50. 51. 52. 53. 54. 55. 56. 57. 58. 59. 60.\n",
      " 61. 62. 63. 64.]\n"
     ]
    }
   ],
   "source": []
  },
  {
   "cell_type": "code",
   "execution_count": null,
   "metadata": {},
   "outputs": [],
   "source": []
  }
 ],
 "metadata": {
  "kernelspec": {
   "display_name": "Python 3",
   "language": "python",
   "name": "python3"
  },
  "language_info": {
   "codemirror_mode": {
    "name": "ipython",
    "version": 3
   },
   "file_extension": ".py",
   "mimetype": "text/x-python",
   "name": "python",
   "nbconvert_exporter": "python",
   "pygments_lexer": "ipython3",
   "version": "3.7.2"
  }
 },
 "nbformat": 4,
 "nbformat_minor": 4
}
