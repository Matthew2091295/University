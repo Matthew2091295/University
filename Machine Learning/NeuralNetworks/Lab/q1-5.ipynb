{
 "cells": [
  {
   "cell_type": "code",
   "execution_count": 6,
   "metadata": {},
   "outputs": [],
   "source": [
    "import numpy as np"
   ]
  },
  {
   "cell_type": "code",
   "execution_count": 9,
   "metadata": {},
   "outputs": [],
   "source": [
    "def sigmoid (x):\n",
    "    return 1/(1 + np.exp(-x))"
   ]
  },
  {
   "cell_type": "code",
   "execution_count": 12,
   "metadata": {},
   "outputs": [],
   "source": [
    "def sigmoid_derivative(x):\n",
    "    return x * (1 - x)"
   ]
  },
  {
   "cell_type": "code",
   "execution_count": 7,
   "metadata": {},
   "outputs": [],
   "source": [
    "inputs = np.array([[0,0],[0,1],[1,0],[1,1]])\n",
    "expected_output = np.array([[0],[1],[1],[0]])"
   ]
  },
  {
   "cell_type": "code",
   "execution_count": 8,
   "metadata": {},
   "outputs": [],
   "source": [
    "inputLayerNeurons, hiddenLayerNeurons, outputLayerNeurons = 2,2,1\n",
    "\n",
    "hidden_weights = np.random.uniform(size=(inputLayerNeurons,hiddenLayerNeurons))\n",
    "hidden_bias =np.random.uniform(size=(1,hiddenLayerNeurons))\n",
    "\n",
    "output_weights = np.random.uniform(size=(hiddenLayerNeurons,outputLayerNeurons))\n",
    "output_bias = np.random.uniform(size=(1,outputLayerNeurons))"
   ]
  },
  {
   "cell_type": "code",
   "execution_count": 10,
   "metadata": {},
   "outputs": [],
   "source": [
    "hidden_layer_activation = np.dot(inputs,hidden_weights)\n",
    "hidden_layer_activation += hidden_bias\n",
    "hidden_layer_output = sigmoid(hidden_layer_activation)\n",
    "output_layer_activation = np.dot(hidden_layer_output,output_weights)\n",
    "output_layer_activation += output_bias\n",
    "predicted_output = sigmoid(output_layer_activation)"
   ]
  },
  {
   "cell_type": "code",
   "execution_count": 14,
   "metadata": {},
   "outputs": [],
   "source": [
    "lr = 0.1\n",
    "#Backpropagation\n",
    "error = expected_output - predicted_output\n",
    "d_predicted_output = error * sigmoid_derivative(predicted_output)\n",
    " \n",
    "error_hidden_layer = d_predicted_output.dot(output_weights.T)\n",
    "d_hidden_layer = error_hidden_layer * sigmoid_derivative(hidden_layer_output)\n",
    "#Updating Weights and Biases\n",
    "output_weights += hidden_layer_output.T.dot(d_predicted_output) * lr\n",
    "output_bias += np.sum(d_predicted_output,axis=0,keepdims=True) * lr\n",
    "hidden_weights += inputs.T.dot(d_hidden_layer) * lr\n",
    "hidden_bias += np.sum(d_hidden_layer,axis=0,keepdims=True) * lr"
   ]
  },
  {
   "cell_type": "code",
   "execution_count": 41,
   "metadata": {},
   "outputs": [
    {
     "name": "stdout",
     "output_type": "stream",
     "text": [
      "0.8365359392688426\n"
     ]
    }
   ],
   "source": [
    "x1 = -1\n",
    "x2 = 1\n",
    "x3 = -1\n",
    "print(sigmoid(-1 + 2*sigmoid(1 - x1 + 0.5*x2 + x3) + sigmoid(2-2*x1 + x2 -x3)))"
   ]
  },
  {
   "cell_type": "code",
   "execution_count": 37,
   "metadata": {},
   "outputs": [
    {
     "data": {
      "text/plain": [
       "4.6326763292306525"
      ]
     },
     "execution_count": 37,
     "metadata": {},
     "output_type": "execute_result"
    }
   ],
   "source": [
    "0.8175744761936437\n",
    "0.9975273768433653\n",
    "\n",
    "2*0.8175744761936437 + 0.9975273768433653 + 2"
   ]
  },
  {
   "cell_type": "code",
   "execution_count": 20,
   "metadata": {},
   "outputs": [
    {
     "name": "stdout",
     "output_type": "stream",
     "text": [
      "[[ 5 -2]\n",
      " [ 7  6]]\n"
     ]
    }
   ],
   "source": [
    "hidden_weights = np.array([5, -2, 7, 6]).reshape((2, 2))\n",
    "print(hidden_weights)"
   ]
  },
  {
   "cell_type": "code",
   "execution_count": null,
   "metadata": {},
   "outputs": [],
   "source": []
  }
 ],
 "metadata": {
  "kernelspec": {
   "display_name": "Python 3",
   "language": "python",
   "name": "python3"
  },
  "language_info": {
   "codemirror_mode": {
    "name": "ipython",
    "version": 3
   },
   "file_extension": ".py",
   "mimetype": "text/x-python",
   "name": "python",
   "nbconvert_exporter": "python",
   "pygments_lexer": "ipython3",
   "version": "3.7.2"
  }
 },
 "nbformat": 4,
 "nbformat_minor": 4
}
