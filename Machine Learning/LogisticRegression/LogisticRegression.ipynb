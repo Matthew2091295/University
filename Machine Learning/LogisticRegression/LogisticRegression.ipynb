{
 "cells": [
  {
   "cell_type": "code",
   "execution_count": 1,
   "metadata": {},
   "outputs": [],
   "source": [
    "import numpy as np\n",
    "import math\n",
    "import random\n",
    "import matplotlib.pyplot as plt"
   ]
  },
  {
   "cell_type": "code",
   "execution_count": 2,
   "metadata": {},
   "outputs": [],
   "source": [
    "def htheta(theta, x):\n",
    "    z = theta.transpose().dot(x)\n",
    "    return 1/(1 + np.exp(-z))"
   ]
  },
  {
   "cell_type": "code",
   "execution_count": 3,
   "metadata": {},
   "outputs": [
    {
     "data": {
      "image/png": "[encoded data removed]",
      "text/plain": [
       "<Figure size 432x288 with 1 Axes>"
      ]
     },
     "metadata": {
      "needs_background": "light"
     },
     "output_type": "display_data"
    }
   ],
   "source": [
    "#Question 1 a) and b)\n",
    "#Defining mean and variances of class0, class1\n",
    "meanClass0X = 1\n",
    "meanClass0Y = -1\n",
    "meanClass1X = -1\n",
    "meanClass1Y = 1\n",
    "\n",
    "arr = np.ones(20).reshape(20,1)\n",
    "\n",
    "varianceX = math.sqrt(1)\n",
    "varianceY = math.sqrt(1)\n",
    "\n",
    "#Generating and plotting class0\n",
    "class0X = meanClass0X + varianceX*np.random.randn(20, 1)\n",
    "class0Y = meanClass0Y + varianceY*np.random.randn(20, 1)\n",
    "class0 = np.append(arr, class0X, axis=1)\n",
    "class0 = np.append(class0, class0Y, axis=1)\n",
    "plt.scatter(class0X, class0Y)\n",
    "\n",
    "#Generating and plotting class1\n",
    "class1X = meanClass1X + varianceX*np.random.randn(20, 1)\n",
    "class1Y = meanClass1Y + varianceY*np.random.randn(20, 1)\n",
    "class1 = np.append(arr, class1X, axis=1)\n",
    "class1 = np.append(class1, class1Y, axis=1)\n",
    "plt.scatter(class1X, class1Y)\n",
    "\n",
    "plt.show()"
   ]
  },
  {
   "cell_type": "code",
   "execution_count": 15,
   "metadata": {},
   "outputs": [
    {
     "name": "stdout",
     "output_type": "stream",
     "text": [
      "[ 1.         -1.51432899 -1.99994286]\n",
      "[ 1.         -2.34727391 -0.36347411]\n",
      "[-0.309248025664515, -0.11986406306979995, -0.233211408262]\n"
     ]
    }
   ],
   "source": [
    "print(class0[0])\n",
    "print(class1[1])\n",
    "print(theta)\n",
    "theta = np.array([-0.309248025664515, -0.11986406306979995, -0.233211408262])"
   ]
  },
  {
   "cell_type": "code",
   "execution_count": 20,
   "metadata": {},
   "outputs": [
    {
     "name": "stdout",
     "output_type": "stream",
     "text": [
      "-0.22182215579110168\n"
     ]
    }
   ],
   "source": [
    "l = -0.233211408262 + 0.01*(1 - htheta(theta, class1[0])*-0.36347411 + -0.0233211408262)\n",
    "print(l)"
   ]
  },
  {
   "cell_type": "code",
   "execution_count": 5,
   "metadata": {},
   "outputs": [
    {
     "name": "stdout",
     "output_type": "stream",
     "text": [
      "[-0.3033061  -0.12873336 -0.24485007]\n"
     ]
    },
    {
     "data": {
      "image/png": "[encoded data removed]",
      "text/plain": [
       "<Figure size 432x288 with 1 Axes>"
      ]
     },
     "metadata": {
      "needs_background": "light"
     },
     "output_type": "display_data"
    }
   ],
   "source": [
    "#Question 2\n",
    "#Determining the random theta in (-0.5, 0.5)\n",
    "theta1 = -0.5 + 0.5*random.random()\n",
    "theta2 = -0.5 + 0.5*random.random()\n",
    "theta3 = -0.5 + 0.5*random.random()\n",
    "theta = np.array([theta1, theta2, theta3])\n",
    "print(theta)\n",
    "#plotting points class0=green, class1=blue\n",
    "plt.scatter(class0X, class0Y, color=\"green\")\n",
    "plt.scatter(class1X, class1Y, color=\"blue\")\n",
    "#plotting theta\n",
    "xvals = np.linspace(-4, 4, 80)\n",
    "yvals = theta[0] + theta[1]*np.power(xvals, 1) + theta[2]*np.power(xvals, 2)\n",
    "plt.plot(xvals,yvals)\n",
    "plt.show()\n",
    "\n",
    "#This is an initial, random guess for the function, and so will be innacurate"
   ]
  },
  {
   "cell_type": "code",
   "execution_count": 150,
   "metadata": {},
   "outputs": [
    {
     "name": "stdout",
     "output_type": "stream",
     "text": [
      "-21.931902203086022\n"
     ]
    }
   ],
   "source": [
    "#Need to find log likelyhood error as well as a confusion matrix\n",
    "#We have the htheta function in htheta(theta, x)\n",
    "#Need to loop over all data points and sum the loglikelyhood error of each\n",
    "\n",
    "llike = 0\n",
    "\n",
    "for i in class0:\n",
    "    #y always 0 in class 0, so onlike have to worry about 1-yi\n",
    "    h = htheta(theta, i)\n",
    "    llike = llike + np.log(1-h)   \n",
    "for i in class1:\n",
    "    #y always 1 in calss 1, so onlike have to worry about yi\n",
    "    h = htheta(theta, i)\n",
    "    llike = llike + np.log(h)\n",
    "print(llike)"
   ]
  },
  {
   "cell_type": "code",
   "execution_count": 151,
   "metadata": {},
   "outputs": [],
   "source": [
    "def logLikelyhood(class0, class1, theta):\n",
    "    llike = 0\n",
    "    for i in class0:\n",
    "        #y always 0 in class 0, so onlike have to worry about 1-yi\n",
    "        h = htheta(theta, i)\n",
    "        llike = llike + np.log(1-h)\n",
    "    \n",
    "    for i in class1:\n",
    "        #y always 1 in calss 1, so onlike have to worry about yi\n",
    "        h = htheta(theta, i)\n",
    "        llike = llike + np.log(h)\n",
    "    return llike"
   ]
  },
  {
   "cell_type": "code",
   "execution_count": 129,
   "metadata": {},
   "outputs": [
    {
     "name": "stdout",
     "output_type": "stream",
     "text": [
      "0 | 0\n",
      "0 | 0\n",
      "0 | 0\n",
      "0 | 0\n",
      "0 | 0\n",
      "0 | 0\n",
      "1 | 0\n",
      "0 | 0\n",
      "0 | 0\n",
      "0 | 0\n",
      "0 | 0\n",
      "0 | 0\n",
      "0 | 0\n",
      "0 | 0\n",
      "0 | 0\n",
      "0 | 0\n",
      "0 | 0\n",
      "0 | 0\n",
      "0 | 0\n",
      "0 | 0\n",
      "1 | 1\n",
      "0 | 1\n",
      "0 | 1\n",
      "0 | 1\n",
      "0 | 1\n",
      "0 | 1\n",
      "0 | 1\n",
      "0 | 1\n",
      "0 | 1\n",
      "1 | 1\n",
      "0 | 1\n",
      "0 | 1\n",
      "0 | 1\n",
      "0 | 1\n",
      "0 | 1\n",
      "0 | 1\n",
      "0 | 1\n",
      "1 | 1\n",
      "0 | 1\n",
      "0 | 1\n"
     ]
    }
   ],
   "source": [
    "#Finding confusion matrix\n",
    "for i in class0:\n",
    "    dec = theta.transpose().dot(i)\n",
    "    if dec < 0:\n",
    "        print(\"0 | 0\")\n",
    "    else:\n",
    "        print(\"1 | 0\")\n",
    "for i in class1:\n",
    "    dec = theta.transpose().dot(i)\n",
    "    if dec < 0:\n",
    "        print(\"0 | 1\")\n",
    "    else:\n",
    "        print(\"1 | 1\")"
   ]
  },
  {
   "cell_type": "code",
   "execution_count": 152,
   "metadata": {},
   "outputs": [],
   "source": [
    "#Putting class0 and class1 together, class0 0:20, class1 21:40\n",
    "featureSpace = np.append(class0, class1, axis=0)"
   ]
  },
  {
   "cell_type": "code",
   "execution_count": 235,
   "metadata": {},
   "outputs": [
    {
     "name": "stdout",
     "output_type": "stream",
     "text": [
      "Done\n"
     ]
    }
   ],
   "source": [
    "#GD\n",
    "alpha = 10e-5\n",
    "lmbda = 1/40\n",
    "lmbdaArr = np.array([0, lmbda, lmbda])\n",
    "thetaOld = np.array([10, 10, 10])\n",
    "thetaUse = theta\n",
    "ep = 5e-8\n",
    "i = 0\n",
    "while i < 100000 and np.linalg.norm(thetaUse - thetaOld) > ep:\n",
    "    thetaOld = thetaUse\n",
    "    for count, val in enumerate(featureSpace):\n",
    "        if count < 20:\n",
    "            #class0\n",
    "            thetaUse = thetaUse - alpha*((htheta(thetaUse, val))*val + lmbdaArr*thetaUse)\n",
    "        else:\n",
    "            #class1\n",
    "            thetaUse = thetaUse - alpha*((1 - htheta(thetaUse, val))* + lmbdaArr*thetaUse)\n",
    "        i += 1\n",
    "print(\"Done\")"
   ]
  },
  {
   "cell_type": "code",
   "execution_count": 236,
   "metadata": {},
   "outputs": [
    {
     "name": "stdout",
     "output_type": "stream",
     "text": [
      "0.000233338564173558\n",
      "[-1.02116945 -0.80203219  0.58761815]\n",
      "[-1.02094957 -0.8019913   0.58755163]\n",
      "100000\n",
      "-12.201113548199968\n"
     ]
    }
   ],
   "source": [
    "print(np.linalg.norm(thetaUse - thetaOld))\n",
    "print(thetaUse)\n",
    "print(thetaOld)\n",
    "print(i)\n",
    "print(logLikelyhood(featureSpace[0:20], featureSpace[21:], thetaUse))"
   ]
  },
  {
   "cell_type": "code",
   "execution_count": 192,
   "metadata": {},
   "outputs": [
    {
     "data": {
      "image/png": "[encoded data removed]",
      "text/plain": [
       "<Figure size 432x288 with 1 Axes>"
      ]
     },
     "metadata": {
      "needs_background": "light"
     },
     "output_type": "display_data"
    }
   ],
   "source": [
    "#plotting points class0=green, class1=blue\n",
    "plt.scatter(class0X, class0Y, color=\"green\")\n",
    "plt.scatter(class1X, class1Y, color=\"blue\")\n",
    "#plotting theta\n",
    "xvals = np.linspace(-4, 4, 80)\n",
    "yvals = thetaUse[0] + thetaUse[1]*np.power(xvals, 1) + thetaUse[2]*np.power(xvals, 2)\n",
    "plt.plot(xvals,yvals)\n",
    "yvals2 = theta[0] + theta[1]*np.power(xvals, 1) + theta[2]*np.power(xvals, 2)\n",
    "plt.plot(xvals,yvals2)\n",
    "plt.show()"
   ]
  },
  {
   "cell_type": "code",
   "execution_count": 238,
   "metadata": {},
   "outputs": [],
   "source": [
    "#Getting validation data\n",
    "\n",
    "meanClass0X = 1\n",
    "meanClass0Y = -1\n",
    "meanClass1X = -1\n",
    "meanClass1Y = 1\n",
    "\n",
    "arr = np.ones(20).reshape(20,1)\n",
    "\n",
    "varianceX = math.sqrt(1)\n",
    "varianceY = math.sqrt(1)\n",
    "\n",
    "#Generating and plotting class0\n",
    "class0XValid = meanClass0X + varianceX*np.random.randn(20, 1)\n",
    "class0YValid = meanClass0Y + varianceY*np.random.randn(20, 1)\n",
    "class0Valid = np.append(arr, class0XValid, axis=1)\n",
    "class0Valid = np.append(class0Valid, class0YValid, axis=1)\n",
    "\n",
    "#Generating and plotting class1\n",
    "class1XValid = meanClass1X + varianceX*np.random.randn(20, 1)\n",
    "class1YValid = meanClass1Y + varianceY*np.random.randn(20, 1)\n",
    "class1Valid = np.append(arr, class1XValid, axis=1)\n",
    "class1Valid = np.append(class1Valid, class1YValid, axis=1)"
   ]
  },
  {
   "cell_type": "code",
   "execution_count": 239,
   "metadata": {},
   "outputs": [],
   "source": [
    "#Getting testing data\n",
    "\n",
    "meanClass0X = 1\n",
    "meanClass0Y = -1\n",
    "meanClass1X = -1\n",
    "meanClass1Y = 1\n",
    "\n",
    "arr = np.ones(20).reshape(20,1)\n",
    "\n",
    "varianceX = math.sqrt(1)\n",
    "varianceY = math.sqrt(1)\n",
    "\n",
    "#Generating and plotting class0\n",
    "class0XTest = meanClass0X + varianceX*np.random.randn(20, 1)\n",
    "class0YTest = meanClass0Y + varianceY*np.random.randn(20, 1)\n",
    "class0Test = np.append(arr, class0XTest, axis=1)\n",
    "class0Test = np.append(class0Test, class0Y, axis=1)\n",
    "\n",
    "#Generating and plotting class1\n",
    "class1XTest = meanClass1X + varianceX*np.random.randn(20, 1)\n",
    "class1YTest = meanClass1Y + varianceY*np.random.randn(20, 1)\n",
    "class1Test = np.append(arr, class1XTest, axis=1)\n",
    "class1Test = np.append(class1Test, class1YTest, axis=1)"
   ]
  },
  {
   "cell_type": "code",
   "execution_count": 201,
   "metadata": {},
   "outputs": [
    {
     "name": "stdout",
     "output_type": "stream",
     "text": [
      "[-0.56264068 -0.64569086  0.370767  ]\n",
      "[ 1.         -0.17132416 -1.37126757]\n"
     ]
    }
   ],
   "source": [
    "print(thetaUse)\n",
    "print(class0Valid[0])"
   ]
  },
  {
   "cell_type": "code",
   "execution_count": 240,
   "metadata": {},
   "outputs": [
    {
     "name": "stdout",
     "output_type": "stream",
     "text": [
      "19\n",
      "9\n",
      "-17.456904896815356\n"
     ]
    }
   ],
   "source": [
    "#Error validation\n",
    "corr0 = 0\n",
    "corr1 = 0\n",
    "\n",
    "for i in class0Valid:\n",
    "    dec = thetaUse.transpose().dot(i)\n",
    "    if dec < 0:\n",
    "        corr0 += 1\n",
    "for i in class1Valid:\n",
    "    dec = thetaUse.transpose().dot(i)\n",
    "    if dec > 0:\n",
    "        corr1 += 1\n",
    "print(corr0)\n",
    "print(corr1)\n",
    "\n",
    "print(logLikelyhood(class0Valid, class1Valid, thetaUse))"
   ]
  },
  {
   "cell_type": "code",
   "execution_count": 241,
   "metadata": {},
   "outputs": [
    {
     "name": "stdout",
     "output_type": "stream",
     "text": [
      "20\n",
      "13\n",
      "-13.1668118032642\n"
     ]
    }
   ],
   "source": [
    "#Error testing\n",
    "corr0 = 0\n",
    "corr1 = 0\n",
    "\n",
    "for i in class0Test:\n",
    "    dec = thetaUse.transpose().dot(i)\n",
    "    if dec < 0:\n",
    "        corr0 += 1\n",
    "for i in class1Test:\n",
    "    dec = thetaUse.transpose().dot(i)\n",
    "    if dec > 0:\n",
    "        corr1 += 1\n",
    "print(corr0)\n",
    "print(corr1)\n",
    "\n",
    "print(logLikelyhood(class0Test, class1Test, thetaUse))"
   ]
  },
  {
   "cell_type": "code",
   "execution_count": 204,
   "metadata": {},
   "outputs": [
    {
     "name": "stdout",
     "output_type": "stream",
     "text": [
      "19\n",
      "16\n"
     ]
    }
   ],
   "source": [
    "#Error trained\n",
    "corr0 = 0\n",
    "corr1 = 0\n",
    "\n",
    "for i in class0:\n",
    "    dec = thetaUse.transpose().dot(i)\n",
    "    if dec < 0:\n",
    "        corr0 += 1\n",
    "for i in class1:\n",
    "    dec = thetaUse.transpose().dot(i)\n",
    "    if dec > 0:\n",
    "        corr1 += 1\n",
    "print(corr0)\n",
    "print(corr1)"
   ]
  }
 ],
 "metadata": {
  "kernelspec": {
   "display_name": "Python 3",
   "language": "python",
   "name": "python3"
  },
  "language_info": {
   "codemirror_mode": {
    "name": "ipython",
    "version": 3
   },
   "file_extension": ".py",
   "mimetype": "text/x-python",
   "name": "python",
   "nbconvert_exporter": "python",
   "pygments_lexer": "ipython3",
   "version": "3.9.4"
  }
 },
 "nbformat": 4,
 "nbformat_minor": 4
}
