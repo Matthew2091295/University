{
 "cells": [
  {
   "cell_type": "code",
   "execution_count": 24,
   "metadata": {},
   "outputs": [],
   "source": [
    "import numpy as np\n",
    "import matplotlib.pyplot as plot\n",
    "import seaborn as sns\n",
    "import time"
   ]
  },
  {
   "cell_type": "code",
   "execution_count": 2,
   "metadata": {},
   "outputs": [],
   "source": [
    "mu, sigma = 0, 10\n",
    "s = np.random.normal(mu, sigma, 150)"
   ]
  },
  {
   "cell_type": "code",
   "execution_count": 3,
   "metadata": {},
   "outputs": [],
   "source": [
    "#Constructing the design matrix of all of the data, stored in X\n",
    "X = np.ones((150, 3))\n",
    "for i in range(150):\n",
    "    for j in range(1, 3):\n",
    "        X[i, j] = s[i]**j"
   ]
  },
  {
   "cell_type": "code",
   "execution_count": 4,
   "metadata": {},
   "outputs": [],
   "source": [
    "#Sampling 3 values for {θ0, θ1, θ2}\n",
    "#The while loop makes sure that they are all bewteen 0 and 1\n",
    "theta = np.random.normal(0, 1, 3)\n",
    "test = False\n",
    "while not test:\n",
    "    if np.amin(theta) < 0 or np.amax(theta) > 1:\n",
    "        theta = np.random.normal(0, 1, 3)\n",
    "    else:\n",
    "        test = True"
   ]
  },
  {
   "cell_type": "code",
   "execution_count": 5,
   "metadata": {},
   "outputs": [],
   "source": [
    "#Generating y values\n",
    "y = X.dot(theta)\n",
    "#Adding random noise\n",
    "noise = np.random.normal(0, 8, len(y))\n",
    "y = y + noise\n",
    "#Values for Y now stored in an array y, with random noise added"
   ]
  },
  {
   "cell_type": "code",
   "execution_count": 6,
   "metadata": {},
   "outputs": [
    {
     "data": {
      "image/png": "[encoded data removed]",
      "text/plain": [
       "<Figure size 432x288 with 1 Axes>"
      ]
     },
     "metadata": {
      "needs_background": "light"
     },
     "output_type": "display_data"
    }
   ],
   "source": [
    "plot.scatter(s, y)\n",
    "plot.show()"
   ]
  },
  {
   "cell_type": "code",
   "execution_count": 7,
   "metadata": {},
   "outputs": [],
   "source": [
    "#We now need to split the data into training, validation and testing data\n",
    "#There are 150 vals of x, and 150 vals of y\n",
    "#90 for training, 30 for validation and testing\n",
    "\n",
    "v = np.arange(0, 150)\n",
    "train = np.random.choice(v, 90, replace=False)\n",
    "v_2 = np.delete(v, train)\n",
    "val = np.random.choice(v_2, 30, replace=False)\n",
    "temp = np.append(train, val)\n",
    "test = np.delete(v, temp)\n",
    "\n",
    "#Now the indexes of each set are stored in their corresponding arrays\n",
    "#We need to set up x_train, x_val and x_test\n",
    "\n",
    "x_train = np.take(s, train)\n",
    "x_val = np.take(s, val)\n",
    "x_test = np.take(s, test)\n",
    "\n",
    "#now create X_train, X_val, X_test, as well as the corresponding y arrays\n",
    "\n",
    "X_train = np.ones((90, 3))\n",
    "X_val = np.ones((30, 3))\n",
    "X_test = np.ones((30, 3))\n",
    "\n",
    "for i in range(90):\n",
    "    for j in range(1,3):\n",
    "        X_train[i, j] = x_train[i]**j\n",
    "for i in range(30):\n",
    "    for j in range(3):\n",
    "        X_val[i, j] = x_val[i]**j\n",
    "        X_test[i, j] = x_train[i]**j\n",
    "#Getting corresponding y values \n",
    "y_train = X_train.dot(theta)\n",
    "y_val = X_val.dot(theta)\n",
    "y_test = X_test.dot(theta)\n",
    "\n",
    "noise_train = np.random.normal(0, 8, len(y_train))\n",
    "y_train = y_train+noise_train\n",
    "noise_val = np.random.normal(0, 8, len(y_val))\n",
    "y_val = y_val + noise_val\n",
    "noise_test = np.random.normal(0, 8, len(y_test))\n",
    "y_test = y_test + noise_test"
   ]
  },
  {
   "cell_type": "code",
   "execution_count": 9,
   "metadata": {},
   "outputs": [
    {
     "name": "stdout",
     "output_type": "stream",
     "text": [
      "The true solution for theta: [0.16857291 0.13494105 0.40560083]\n",
      "The calculated closed form solution: [1.95411159 0.2699616  0.398133  ]\n",
      "Runtime of the program is 0.0010008811950683594\n"
     ]
    }
   ],
   "source": [
    "#we now have our data stored in s and y\n",
    "start = time.time()\n",
    "closedForm_train = np.linalg.inv((X_train.transpose().dot(X_train)))\\\n",
    ".dot(X_train.transpose()).dot(y_train)\n",
    "end = time.time()\n",
    "print(\"The true solution for theta: \", end=\"\")\n",
    "print(theta)\n",
    "print(\"The calculated closed form solution: \", end=\"\")\n",
    "print(closedForm_train)\n",
    "print(f\"Runtime of the program is {end - start}\")"
   ]
  },
  {
   "cell_type": "code",
   "execution_count": 52,
   "metadata": {},
   "outputs": [
    {
     "name": "stdout",
     "output_type": "stream",
     "text": [
      "2211.2663815284677\n",
      "786.2434598124518\n",
      "922.9613759594413\n"
     ]
    }
   ],
   "source": [
    "#Calculating training and validation error for cell above\n",
    "y_calc = closedForm_train[0] + closedForm_train[1]*X_train[:,1] + closedForm_train[2]*X_train[:,2]\n",
    "error = 0.5*sum(np.power(y_train - y_calc, 2))\n",
    "print(error)\n",
    "y_calc = closedForm_train[0] + closedForm_train[1]*X_val[:,1] + closedForm_train[2]*X_val[:,2]\n",
    "error = 0.5*sum(np.power(y_val - y_calc, 2))\n",
    "print(error)\n",
    "y_calc = closedForm_train[0] + closedForm_train[1]*X_test[:,1] + closedForm_train[2]*X_test[:,2]\n",
    "error = 0.5*sum(np.power(y_test - y_calc, 2))\n",
    "print(error)"
   ]
  },
  {
   "cell_type": "code",
   "execution_count": 296,
   "metadata": {},
   "outputs": [
    {
     "name": "stdout",
     "output_type": "stream",
     "text": [
      "[303.25089577  19.09316251   0.48439539]\n"
     ]
    }
   ],
   "source": [
    "relError = abs((closedForm_train - theta)/theta)*100\n",
    "print(relError)"
   ]
  },
  {
   "cell_type": "code",
   "execution_count": 297,
   "metadata": {},
   "outputs": [
    {
     "data": {
      "image/png": "[encoded data removed]",
      "text/plain": [
       "<Figure size 432x288 with 1 Axes>"
      ]
     },
     "metadata": {
      "needs_background": "light"
     },
     "output_type": "display_data"
    }
   ],
   "source": [
    "#Plotting actual graph versus trained graph using closed form\n",
    "xt = np.linspace(-30, 30, 1000)\n",
    "yt = theta[0] + theta[1]*np.power(xt, 1) + theta[2]*np.power(xt, 2)\n",
    "yt2 = closedForm_train[0] + closedForm_train[1]*np.power(xt, 1) + closedForm_train[2]*np.power(xt, 2)\n",
    "plot.plot(xt, yt, 'r')\n",
    "plot.scatter(x_train, y_train)\n",
    "plot.show()"
   ]
  },
  {
   "cell_type": "code",
   "execution_count": null,
   "metadata": {},
   "outputs": [],
   "source": [
    "#We need to calculate the training/validation error"
   ]
  },
  {
   "cell_type": "code",
   "execution_count": 19,
   "metadata": {},
   "outputs": [
    {
     "data": {
      "image/png": "[encoded data removed]",
      "text/plain": [
       "<Figure size 432x288 with 1 Axes>"
      ]
     },
     "metadata": {
      "needs_background": "light"
     },
     "output_type": "display_data"
    }
   ],
   "source": [
    "#Sorting broken\n",
    "\n",
    "plot.plot(np.sort(x_train), np.sort(y_train))\n",
    "plot.show()"
   ]
  },
  {
   "cell_type": "code",
   "execution_count": 187,
   "metadata": {},
   "outputs": [
    {
     "name": "stdout",
     "output_type": "stream",
     "text": [
      "(90, 3)\n"
     ]
    }
   ],
   "source": [
    "print(X_train.shape)"
   ]
  },
  {
   "cell_type": "code",
   "execution_count": 50,
   "metadata": {},
   "outputs": [
    {
     "name": "stdout",
     "output_type": "stream",
     "text": [
      "Runtime of the program is 0.0020029544830322266\n"
     ]
    },
    {
     "data": {
      "image/png": "[encoded data removed]",
      "text/plain": [
       "<Figure size 432x288 with 1 Axes>"
      ]
     },
     "metadata": {
      "needs_background": "light"
     },
     "output_type": "display_data"
    }
   ],
   "source": [
    "#Repeating finding our solutions, this time using gradient desecnt\n",
    "\n",
    "alpha = 10**-13\n",
    "theta_train = np.array([1, 1, 1])\n",
    "thetaOld = np.array([10, 10, 10])\n",
    "err = np.array([])\n",
    "timeA = 0;\n",
    "timeArr = np.array([])\n",
    "ep = 10**-8\n",
    "startT = time.time()\n",
    "while np.linalg.norm(theta_train - thetaOld) > ep:\n",
    "    for count, row in enumerate(X_train):\n",
    "        thetaOld = theta_train\n",
    "        theta_train = theta_train - alpha*(theta_train.dot(row[0:3]) - y_train[count])*row[0:3]\n",
    "        if timeA%20 == 0:\n",
    "            y_calc = theta_train[0] + theta_train[1]*X_train[:,1] + theta_train[2]*X_train[:,2]\n",
    "            error = 0.5*sum(np.power(y_train - y_calc, 2))\n",
    "            err = np.append(err, error)\n",
    "            timeArr = np.append(timeArr, timeA)\n",
    "        timeA = timeA+1\n",
    "endT = time.time()\n",
    "print(f\"Runtime of the program is {endT - startT}\")\n",
    "plot.plot(timeArr, err)\n",
    "plot.show()"
   ]
  },
  {
   "cell_type": "code",
   "execution_count": 51,
   "metadata": {},
   "outputs": [
    {
     "name": "stdout",
     "output_type": "stream",
     "text": [
      "834236.6696896172\n",
      "83940.26664978248\n",
      "397849.58144298306\n"
     ]
    }
   ],
   "source": [
    "#Calculating training and validation error for cell above\n",
    "print(err[-1])\n",
    "y_calc = theta_train[0] + theta_train[1]*X_val[:,1] + theta_train[2]*X_val[:,2]\n",
    "error = 0.5*sum(np.power(y_val - y_calc, 2))\n",
    "print(error)\n",
    "y_calc = theta_train[0] + theta_train[1]*X_test[:,1] + theta_train[2]*X_test[:,2]\n",
    "error = 0.5*sum(np.power(y_test - y_calc, 2))\n",
    "print(error)"
   ]
  },
  {
   "cell_type": "code",
   "execution_count": 42,
   "metadata": {},
   "outputs": [
    {
     "data": {
      "image/png": "[encoded data removed]",
      "text/plain": [
       "<Figure size 432x288 with 1 Axes>"
      ]
     },
     "metadata": {
      "needs_background": "light"
     },
     "output_type": "display_data"
    }
   ],
   "source": [
    "xt = np.linspace(-30, 30, 1000)\n",
    "yt = theta_train[0] + theta_train[1]*np.power(xt, 1) + theta_train[2]*np.power(xt, 2)\n",
    "plot.plot(xt, yt, 'r')\n",
    "plot.scatter(x_train, y_train)\n",
    "plot.show()"
   ]
  },
  {
   "cell_type": "code",
   "execution_count": 20,
   "metadata": {},
   "outputs": [],
   "source": [
    "#Appending x^3\n",
    "x3 = x_train**3\n",
    "x3 = x3.reshape(90, 1)\n",
    "X_train = np.append(X_train, x3, axis=1)\n",
    "x3 = x_val**3\n",
    "x3 = x3.reshape(30, 1)\n",
    "X_val = np.append(X_val, x3, axis = 1)\n",
    "x3 = x_test**3\n",
    "x3 = x3.reshape(30, 1)\n",
    "X_test = np.append(X_test, x3, axis = 1)"
   ]
  },
  {
   "cell_type": "code",
   "execution_count": 47,
   "metadata": {},
   "outputs": [
    {
     "name": "stdout",
     "output_type": "stream",
     "text": [
      "Runtime of the program is 1.2376813888549805\n"
     ]
    },
    {
     "data": {
      "image/png": "[encoded data removed]",
      "text/plain": [
       "<Figure size 432x288 with 1 Axes>"
      ]
     },
     "metadata": {
      "needs_background": "light"
     },
     "output_type": "display_data"
    },
    {
     "data": {
      "image/png": "[encoded data removed]",
      "text/plain": [
       "<Figure size 432x288 with 1 Axes>"
      ]
     },
     "metadata": {
      "needs_background": "light"
     },
     "output_type": "display_data"
    }
   ],
   "source": [
    "alpha = 10**-11\n",
    "theta3 = np.array([1, 1, 1, 1])\n",
    "theta3Old = np.array([10, 10, 10, 10])\n",
    "err = np.array([])\n",
    "timeA = 0;\n",
    "timeArr = np.array([])\n",
    "ep = 10**-9\n",
    "start = time.time()\n",
    "while np.linalg.norm(theta3 - theta3Old) > ep:\n",
    "    for count, row in enumerate(X_train):\n",
    "        theta3Old = theta3\n",
    "        theta3 = theta3 - alpha*(theta3.dot(row) - y_train[count])*row\n",
    "        if timeA%20 == 0:\n",
    "            y_calc = theta3[0] + theta3[1]*X_train[:,1] + theta3[2]*X_train[:,2] + theta3[3]*X_train[:, 3]\n",
    "            error = 0.5*sum(np.power(y_train - y_calc, 2))\n",
    "            err = np.append(err, error)\n",
    "            timeArr = np.append(timeArr, timeA)\n",
    "        timeA = timeA+1\n",
    "end = time.time()\n",
    "print(f\"Runtime of the program is {end - start}\")\n",
    "xt = np.linspace(-30, 30, 1000)\n",
    "yt = theta[0] + theta3[1]*np.power(xt, 1) + theta3[2]*np.power(xt, 2) + theta3[3]*np.power(xt, 3)\n",
    "plot.plot(xt, yt, 'r')\n",
    "plot.scatter(x_train, y_train)\n",
    "plot.show()\n",
    "plot.plot(timeArr, err)\n",
    "plot.show()"
   ]
  },
  {
   "cell_type": "code",
   "execution_count": 48,
   "metadata": {},
   "outputs": [
    {
     "name": "stdout",
     "output_type": "stream",
     "text": [
      "519284.69450900296\n",
      "80932.88680839646\n",
      "337808.8459797729\n"
     ]
    }
   ],
   "source": [
    "#Calculating training and validation error for cell above\n",
    "print(err[-1])\n",
    "y_calc = theta3[0] + theta3[1]*X_val[:,1] + theta3[2]*X_val[:,2]+theta3[3]*X_val[:,3]\n",
    "error = 0.5*sum(np.power(y_val - y_calc, 2))\n",
    "print(error)\n",
    "y_calc = theta3[0] + theta3[1]*X_test[:,1] + theta3[2]*X_test[:,2]+theta3[3]*X_test[:,3]\n",
    "error = 0.5*sum(np.power(y_test - y_calc, 2))\n",
    "print(error)"
   ]
  },
  {
   "cell_type": "code",
   "execution_count": 45,
   "metadata": {},
   "outputs": [
    {
     "name": "stdout",
     "output_type": "stream",
     "text": [
      "Runtime of the program is 14.541514873504639\n"
     ]
    },
    {
     "data": {
      "image/png": "[encoded data removed]",
      "text/plain": [
       "<Figure size 432x288 with 1 Axes>"
      ]
     },
     "metadata": {
      "needs_background": "light"
     },
     "output_type": "display_data"
    },
    {
     "data": {
      "image/png": "[encoded data removed]",
      "text/plain": [
       "<Figure size 432x288 with 1 Axes>"
      ]
     },
     "metadata": {
      "needs_background": "light"
     },
     "output_type": "display_data"
    }
   ],
   "source": [
    "theta3 = np.array([1, 1, 1, 1])\n",
    "theta3Old = np.array([10, 10, 10, 10])\n",
    "err = np.array([])\n",
    "alpha = (10**-11)\n",
    "e = 10**-9\n",
    "err = np.array([])\n",
    "timeA = 0;\n",
    "timeArr = np.array([])\n",
    "lmda = 15\n",
    "lmdaArr = np.array([0, lmda, lmda, lmda])\n",
    "start = time.time()\n",
    "while np.linalg.norm(theta3 - theta3Old) > e:\n",
    "    for i in range(90):\n",
    "        theta3Old = theta3\n",
    "        theta3 = theta3 - alpha*(((theta3.dot(X_train[i]) - y_train[i])\\\n",
    "                                  *X_train[i]) + lmdaArr*theta3) \n",
    "        if timeA%20 == 0:\n",
    "                y_calc = theta3[0] + theta3[1]*X_train[:,1] + theta3[2]\\\n",
    "                *X_train[:,2] + theta3[3]*X_train[:, 3]\n",
    "                error = 0.5*sum(np.power(y_train - y_calc, 2))\n",
    "                err = np.append(err, error)\n",
    "                timeArr = np.append(timeArr, timeA)\n",
    "        timeA = timeA+1\n",
    "end = time.time()\n",
    "print(f\"Runtime of the program is {end - start}\")\n",
    "xt = np.linspace(-30, 30, 100)\n",
    "yt = theta[0] + theta[1]*np.power(xt, 1) + theta[2]*np.power(xt, 2)\\\n",
    "+ theta3[3]*np.power(xt, 3)\n",
    "plot.plot(xt, yt, 'r')\n",
    "plot.scatter(x_train, y_train)\n",
    "plot.show()\n",
    "plot.plot(timeArr, err)\n",
    "plot.show()"
   ]
  },
  {
   "cell_type": "code",
   "execution_count": 46,
   "metadata": {},
   "outputs": [
    {
     "name": "stdout",
     "output_type": "stream",
     "text": [
      "249524.66046083308\n",
      "39197.547339662655\n",
      "171284.32941028188\n"
     ]
    }
   ],
   "source": [
    "#Calculating training and validation error for cell above\n",
    "print(err[-1])\n",
    "y_calc = theta3[0] + theta3[1]*X_val[:,1] + theta3[2]*X_val[:,2]+theta3[3]*X_val[:,3]\n",
    "error = 0.5*sum(np.power(y_val - y_calc, 2))\n",
    "print(error)\n",
    "y_calc = theta3[0] + theta3[1]*X_test[:,1] + theta3[2]*X_test[:,2]+theta3[3]*X_test[:,3]\n",
    "error = 0.5*sum(np.power(y_test - y_calc, 2))\n",
    "print(error)"
   ]
  },
  {
   "cell_type": "code",
   "execution_count": 35,
   "metadata": {},
   "outputs": [
    {
     "name": "stdout",
     "output_type": "stream",
     "text": [
      "[ 0.99941861  0.99986465  0.78320615 -0.00794926]\n"
     ]
    }
   ],
   "source": [
    "print(theta3)"
   ]
  }
 ],
 "metadata": {
  "kernelspec": {
   "display_name": "Python 3",
   "language": "python",
   "name": "python3"
  },
  "language_info": {
   "codemirror_mode": {
    "name": "ipython",
    "version": 3
   },
   "file_extension": ".py",
   "mimetype": "text/x-python",
   "name": "python",
   "nbconvert_exporter": "python",
   "pygments_lexer": "ipython3",
   "version": "3.9.4"
  }
 },
 "nbformat": 4,
 "nbformat_minor": 4
}
